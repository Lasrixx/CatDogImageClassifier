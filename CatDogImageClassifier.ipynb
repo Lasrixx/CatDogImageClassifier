{
  "nbformat": 4,
  "nbformat_minor": 0,
  "metadata": {
    "colab": {
      "name": "CatDogImageClassifier.ipynb",
      "provenance": [],
      "authorship_tag": "ABX9TyMfcKgq1W7OuZXu8BBpHs8N",
      "include_colab_link": true
    },
    "kernelspec": {
      "name": "python3",
      "display_name": "Python 3"
    },
    "language_info": {
      "name": "python"
    }
  },
  "cells": [
    {
      "cell_type": "markdown",
      "metadata": {
        "id": "view-in-github",
        "colab_type": "text"
      },
      "source": [
        "<a href=\"https://colab.research.google.com/github/Lasrixx/CatDogImageClassifier/blob/main/CatDogImageClassifier.ipynb\" target=\"_parent\"><img src=\"https://colab.research.google.com/assets/colab-badge.svg\" alt=\"Open In Colab\"/></a>"
      ]
    },
    {
      "cell_type": "code",
      "execution_count": null,
      "metadata": {
        "id": "kwYAc4aFCEOq"
      },
      "outputs": [],
      "source": [
        ""
      ]
    }
  ]
}